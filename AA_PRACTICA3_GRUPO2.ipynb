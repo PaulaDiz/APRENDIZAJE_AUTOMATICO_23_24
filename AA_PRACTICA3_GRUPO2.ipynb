{
  "nbformat": 4,
  "nbformat_minor": 0,
  "metadata": {
    "colab": {
      "provenance": [],
      "include_colab_link": true
    },
    "kernelspec": {
      "name": "python3",
      "display_name": "Python 3"
    },
    "language_info": {
      "name": "python"
    }
  },
  "cells": [
    {
      "cell_type": "markdown",
      "metadata": {
        "id": "view-in-github",
        "colab_type": "text"
      },
      "source": [
        "<a href=\"https://colab.research.google.com/github/PaulaDiz/APRENDIZAJE_AUTOMATICO_23_24/blob/main/AA_PRACTICA3_GRUPO2.ipynb\" target=\"_parent\"><img src=\"https://colab.research.google.com/assets/colab-badge.svg\" alt=\"Open In Colab\"/></a>"
      ]
    },
    {
      "cell_type": "markdown",
      "source": [
        "#GRUPO B2\n",
        "Rubén Sierra Serrano, Paula Diz Diz y Lucía de Angulo Pelayo."
      ],
      "metadata": {
        "id": "FFWQ5YftV5aQ"
      }
    },
    {
      "cell_type": "markdown",
      "source": [
        "ENUNCIADO PRÁCTICA 3: Crea un modelo de Red de Neuronas Convolucionales que sea capaz de reconocer y clasificar imágenes en 100 categorías. Este modelo será definido, configurado, entrenado, evaluado y mejorado para posteriormente usarlo para hacer predicciones."
      ],
      "metadata": {
        "id": "BVndPJ2tY2LK"
      }
    },
    {
      "cell_type": "markdown",
      "source": [
        "Primero importamos las librerías necesarias para ejecutar nuestro modelo:"
      ],
      "metadata": {
        "id": "mtWpg0C7ZAuT"
      }
    },
    {
      "cell_type": "code",
      "source": [
        "import tensorflow as tf\n",
        "from tensorflow.keras import layers, models\n",
        "from tensorflow.keras.datasets import cifar100\n",
        "from tensorflow.keras.utils import to_categorical"
      ],
      "metadata": {
        "id": "LW39z2OGITmB"
      },
      "execution_count": 1,
      "outputs": []
    },
    {
      "cell_type": "markdown",
      "source": [
        "##CARGA DE LOS DATOS\n",
        "Descargamos el dataset y cargamos los datos de entrenamiento y de test."
      ],
      "metadata": {
        "id": "upUNu2vkZVag"
      }
    },
    {
      "cell_type": "code",
      "source": [
        "(x_train, y_train), (x_test, y_test) = cifar100.load_data(label_mode = 'coarse')\n",
        "\n",
        "x_train = x_train.astype('float32')/255\n",
        "x_test = x_test.astype('float32')/255\n",
        "\n",
        "\n",
        "y_train = to_categorical(y_train)\n",
        "y_test = to_categorical(y_test)"
      ],
      "metadata": {
        "id": "qf-37nlR9IZN"
      },
      "execution_count": 2,
      "outputs": []
    },
    {
      "cell_type": "markdown",
      "source": [
        "Comprobación de los tamaños de los datos de entrenamiento y test: y = etiquetas; x = imagenes . Como podemos observar se van a usar 50 mil imágenes para training, que son las imágenes con las que se entrenará nuestro modelo, y 10 mil imágenes de test.  Después de haber entrenado el modelo con las imágenes de training, crearemos una red de neuronas capaz de recononcer imágenes que nunca había visto antes, es decir, nuestras imagenes de test."
      ],
      "metadata": {
        "id": "KP2luMJ_Zkio"
      }
    },
    {
      "cell_type": "code",
      "source": [
        "print(\"Forma de x_train:\", len(x_train), \" Forma de y_train:\",len(y_train))\n",
        "print(\"Forma de x_test:\", len(x_test), \" Forma de y_test:\", len(y_test))"
      ],
      "metadata": {
        "colab": {
          "base_uri": "https://localhost:8080/"
        },
        "id": "SOLflxRUaJxz",
        "outputId": "d9210f32-f6db-4068-be3e-43b42f5f7f65"
      },
      "execution_count": 3,
      "outputs": [
        {
          "output_type": "stream",
          "name": "stdout",
          "text": [
            "Forma de x_train: 50000  Forma de y_train: 50000\n",
            "Forma de x_test: 10000  Forma de y_test: 10000\n"
          ]
        }
      ]
    },
    {
      "cell_type": "markdown",
      "source": [
        "Vamos a visualizar alguna imagen del set de entrenamiento."
      ],
      "metadata": {
        "id": "LVLbVxDAc5EM"
      }
    },
    {
      "cell_type": "code",
      "source": [
        "import matplotlib.pyplot as plt\n",
        "\n",
        "plt.imshow(x_train[3])\n"
      ],
      "metadata": {
        "colab": {
          "base_uri": "https://localhost:8080/",
          "height": 447
        },
        "id": "aMuudKZQa1U4",
        "outputId": "e9dcae93-e4ce-49f4-ccfa-5fdd4a87c3b2"
      },
      "execution_count": 4,
      "outputs": [
        {
          "output_type": "execute_result",
          "data": {
            "text/plain": [
              "<matplotlib.image.AxesImage at 0x78399ed508b0>"
            ]
          },
          "metadata": {},
          "execution_count": 4
        },
        {
          "output_type": "display_data",
          "data": {
            "text/plain": [
              "<Figure size 640x480 with 1 Axes>"
            ],
            "image/png": "[encoded data removed]"
          },
          "metadata": {}
        }
      ]
    },
    {
      "cell_type": "markdown",
      "source": [
        "Como vemos, las imágenes de CIFAR-100 tienen baja calidad, por lo que la complicación de trabajar con ellas es mayor a otras bases de datos que contienen imágenes nítidas."
      ],
      "metadata": {
        "id": "oaYvqEsPdCMk"
      }
    },
    {
      "cell_type": "markdown",
      "source": [
        "##LIMPIEZA Y MEJORA DE LA BASE DE DATOS\n",
        "\n",
        "La calidad de la base de datos tiene un impacto directo en la calidad del modelo. Una base de datos de alta calidad ofrecerá datos de entrenamiento precisos y representativos, lo que resulta en un modelo más generalizable y correcto. Los datos de entrenamiento deben representar de manera adecuada la variabilidad y la diversidad de todos los datos para que el modelo pueda aprender patrones útiles. Limpiar la base de datos nos ayudará a construir modelos que pueden manejar datos con ruido, outliers y variaciones en la entrada. La diversidad en los datos permite que el modelo se adapte a diferentes escenarios y condiciones."
      ],
      "metadata": {
        "id": "cu5d1pxJafvV"
      }
    },
    {
      "cell_type": "markdown",
      "source": [
        "Buscamos y eliminamos las imágenes duplicadas:"
      ],
      "metadata": {
        "id": "BJx-mvbgbgLy"
      }
    },
    {
      "cell_type": "code",
      "source": [
        "import numpy as np\n",
        "#convertimos imágenes para que sean unidimensionales\n",
        "x_train_flat = x_train.reshape(x_train.shape[0], -1)\n",
        "x_test_flat = x_test.reshape(x_test.shape[0], -1)\n",
        "\n",
        "#comprobar si hay imágenes duplicadas en el set de entrenamiento\n",
        "duplicates_train = len(x_train_flat) - len(np.unique(x_train_flat, axis=0))\n",
        "if duplicates_train > 0:\n",
        "    print(f\"Hay {duplicates_train} imágenes duplicadas en el conjunto de entrenamiento.\")\n",
        "else:\n",
        "    print(\"No hay imágenes duplicadas en el conjunto de entrenamiento.\")\n",
        "\n",
        "#ahora comprobamos en el set de test\n",
        "duplicates_test = len(x_test_flat) - len(np.unique(x_test_flat, axis=0))\n",
        "if duplicates_test > 0:\n",
        "    print(f\"Hay {duplicates_test} imágenes duplicadas en el conjunto de test.\")\n",
        "else:\n",
        "    print(\"No hay imágenes duplicadas en el conjunto de test.\")\n",
        "\n",
        "#ahora buscamos los índices de las imágenes replicadas. primero las de train\n",
        "unique_indices_train = np.unique(x_train_flat, axis=0, return_index=True)[1]\n",
        "duplicated_indices_train = np.setdiff1d(np.arange(x_train.shape[0]), unique_indices_train)\n",
        "\n",
        "#lo mismo pero en las de test\n",
        "unique_indices_test = np.unique(x_test_flat, axis=0, return_index=True)[1]\n",
        "duplicated_indices_test = np.setdiff1d(np.arange(x_test.shape[0]), unique_indices_test)\n",
        "\n",
        "#Ahora eliminamos las imágenes duplicadas\n",
        "x_train_filtered = np.delete(x_train, duplicated_indices_train, axis=0)\n",
        "y_train_filtered = np.delete(y_train, duplicated_indices_train, axis=0)\n",
        "duplicates_after_removal = len(x_train) - len(x_train_filtered)\n",
        "if duplicates_after_removal > 0:\n",
        "    print(f\"Se han eliminado {duplicates_after_removal} imágenes duplicadas del conjunto de entrenamiento.\")\n",
        "else:\n",
        "    print(\"No hay imágenes duplicadas en el conjunto de entrenamiento.\")\n",
        "\n",
        "x_test_filtered = np.delete(x_test, duplicated_indices_test, axis=0)\n",
        "y_test_filtered = np.delete(y_test, duplicated_indices_test, axis=0)\n",
        "\n",
        "#comprobar cuántas imágenes se han eliminado\n",
        "duplicates_after_removal = len(x_test) - len(x_test_filtered)\n",
        "if duplicates_after_removal > 0:\n",
        "    print(f\"Se eliminaron {duplicates_after_removal} imágenes duplicadas del conjunto de test.\")\n",
        "else:\n",
        "    print(\"No hay imágenes duplicadas en el conjunto de test.\")"
      ],
      "metadata": {
        "id": "Y_2QdzS8bpX-"
      },
      "execution_count": 4,
      "outputs": []
    },
    {
      "cell_type": "markdown",
      "source": [
        "Verificamos si hay etiquetas 'NaN':"
      ],
      "metadata": {
        "id": "djQrHK9Id-O_"
      }
    },
    {
      "cell_type": "code",
      "source": [
        "import numpy as np\n",
        "\n",
        "# Verificar si hay NaN en las etiquetas de entrenamiento\n",
        "nan_train_labels = np.isnan(y_train).any()\n",
        "\n",
        "# Verificar si hay NaN en las etiquetas de test\n",
        "nan_test_labels = np.isnan(y_test).any()\n",
        "\n",
        "if nan_train_labels:\n",
        "    print(\"Se han encontrado valores NaN en las etiquetas de entrenamiento.\")\n",
        "else:\n",
        "    print(\"No se han encontrado valores NaN en las etiquetas de entrenamiento.\")\n",
        "\n",
        "if nan_test_labels:\n",
        "    print(\"Se han encontrado valores NaN en las etiquetas de test.\")\n",
        "else:\n",
        "    print(\"No se han encontrado valores NaN en las etiquetas de test.\")"
      ],
      "metadata": {
        "id": "MRlX6IRXeMVP",
        "colab": {
          "base_uri": "https://localhost:8080/"
        },
        "outputId": "48f34ece-6a81-4e70-e1bf-dcaeba848c6d"
      },
      "execution_count": 5,
      "outputs": [
        {
          "output_type": "stream",
          "name": "stdout",
          "text": [
            "No se han encontrado valores NaN en las etiquetas de entrenamiento.\n",
            "No se han encontrado valores NaN en las etiquetas de test.\n"
          ]
        }
      ]
    },
    {
      "cell_type": "markdown",
      "source": [
        "##CONSTRUIMOS LA RED"
      ],
      "metadata": {
        "id": "yRrg15iPefKw"
      }
    },
    {
      "cell_type": "code",
      "source": [
        "model = models.Sequential()\n",
        "model.add(layers.Conv2D(32, (3,3), activation='relu', input_shape=(32, 32, 3)))\n",
        "model.add(layers.MaxPooling2D((2, 2)))\n",
        "model.add(layers.Conv2D(256, (3,3), activation='relu'))\n",
        "model.add(layers.MaxPooling2D((2, 2)))\n",
        "model.add(layers.Conv2D(128, (3,3), activation='relu'))\n",
        "model.add(layers.Dropout(0.5))\n",
        "model.add(layers.Flatten())\n",
        "model.add(layers.Dense(64, activation='relu'))\n",
        "model.add(layers.Dense(100, activation='softmax'))\n",
        "\n",
        "model.summary()\n"
      ],
      "metadata": {
        "id": "6gCj_Exr9MyP",
        "colab": {
          "base_uri": "https://localhost:8080/"
        },
        "outputId": "8011b3e0-fcad-4f69-bd07-07d4065368cc"
      },
      "execution_count": 6,
      "outputs": [
        {
          "output_type": "stream",
          "name": "stdout",
          "text": [
            "Model: \"sequential\"\n",
            "_________________________________________________________________\n",
            " Layer (type)                Output Shape              Param #   \n",
            "=================================================================\n",
            " conv2d (Conv2D)             (None, 30, 30, 32)        896       \n",
            "                                                                 \n",
            " max_pooling2d (MaxPooling2  (None, 15, 15, 32)        0         \n",
            " D)                                                              \n",
            "                                                                 \n",
            " conv2d_1 (Conv2D)           (None, 13, 13, 256)       73984     \n",
            "                                                                 \n",
            " max_pooling2d_1 (MaxPoolin  (None, 6, 6, 256)         0         \n",
            " g2D)                                                            \n",
            "                                                                 \n",
            " conv2d_2 (Conv2D)           (None, 4, 4, 128)         295040    \n",
            "                                                                 \n",
            " dropout (Dropout)           (None, 4, 4, 128)         0         \n",
            "                                                                 \n",
            " flatten (Flatten)           (None, 2048)              0         \n",
            "                                                                 \n",
            " dense (Dense)               (None, 64)                131136    \n",
            "                                                                 \n",
            " dense_1 (Dense)             (None, 100)               6500      \n",
            "                                                                 \n",
            "=================================================================\n",
            "Total params: 507556 (1.94 MB)\n",
            "Trainable params: 507556 (1.94 MB)\n",
            "Non-trainable params: 0 (0.00 Byte)\n",
            "_________________________________________________________________\n"
          ]
        }
      ]
    },
    {
      "cell_type": "markdown",
      "source": [
        "Este resumen nos ofrece información sobre la arquitectura y los parámetros de la CNN.  \n",
        "Se trata de un modelo secuencial, es decir, las capas van una tras otra.  La arquitectura de la red consta de 9 capas: las tres capas convolucionales (Conv2D) tienen 32, 256, 128 neuronas respectivamente y filtros de tamaño (3,3).  Hay dos capas MaxPooling2D que se emplean para reducir la resolución espacial de las representaciones de características.  Ayudan a disminuir el número de parámetros y los cálculos que realiza la red.\n",
        "\n",
        "En cuanto a los parámetros, en total la red tiene 507556 entrenables."
      ],
      "metadata": {
        "id": "cO9rgm6xh-JM"
      }
    },
    {
      "cell_type": "markdown",
      "source": [
        "Tras probar diversas combinaciones de hiperparámetros y estructuras de la red, hemos llegado a esta, la cual nos ha dado el mejor resultado (55% de precisión).  Parece ser eficiente el poner dos capas convencionales al final de la estructura (capas Dense).  El input shape es (32, 32, 3) porque las imágenes son de 32x32 y son a color.  La capa final contiene 100 neuronas porque hay 100 cateogorías en las cuales son clasificadas las imágenes y la función de activación empleada en dicha capa es 'softmax', la cual es ampliamente utilizada en problemas de clasificación multiclase al dar salida a valores entre 0 y 1 (probabilidades de pertenencia a cierta clase).  "
      ],
      "metadata": {
        "id": "_ZqXQKk9eo0f"
      }
    },
    {
      "cell_type": "markdown",
      "source": [
        "Vamos a normalizar los datos para que los valores de las matrices de las imágenes se encuentren en el rango [0, 1].  Las etiquetas las pasamos a one-hot encoding."
      ],
      "metadata": {
        "id": "3MkhNSvKgMMB"
      }
    },
    {
      "cell_type": "code",
      "source": [],
      "metadata": {
        "id": "-u-kMnFBgCey"
      },
      "execution_count": 6,
      "outputs": []
    },
    {
      "cell_type": "markdown",
      "source": [
        "Compilamos el programa.\n",
        "El optimizador 'adam' resulta muy eficiente para los modelos de redes neuronales convolucionales.  Empleamos 'categorical_crossentropy' para calcular la pérdida porque nuestras etiquetas están en formato one-hot."
      ],
      "metadata": {
        "id": "DAu_TRRwfwHR"
      }
    },
    {
      "cell_type": "code",
      "source": [
        "model.compile(optimizer='adam',\n",
        "              loss='categorical_crossentropy',\n",
        "              metrics=['accuracy'])"
      ],
      "metadata": {
        "id": "dRzywBmC9RqQ"
      },
      "execution_count": 7,
      "outputs": []
    },
    {
      "cell_type": "markdown",
      "source": [
        "Entrenamiento del modelo."
      ],
      "metadata": {
        "id": "zQjTOFkCj0ZJ"
      }
    },
    {
      "cell_type": "markdown",
      "source": [
        "Ahora elegimos el 20% de los datos de entrenamiento para que sean de validación y así poder ir comprobando que nuestro modelo entrena correctamente.  Acto seguido entrenamos el modelo."
      ],
      "metadata": {
        "id": "NKjadUIqjW9f"
      }
    },
    {
      "cell_type": "code",
      "source": [
        "from sklearn.model_selection import train_test_split\n",
        "x_train, x_val, y_train, y_val = train_test_split(x_train, y_train, test_size=0.2)\n",
        "\n",
        "history = model.fit(x_train, y_train, epochs=30,batch_size=64, validation_data=(x_val,y_val))"
      ],
      "metadata": {
        "id": "rvV9pHLy9Tmo",
        "colab": {
          "base_uri": "https://localhost:8080/",
          "height": 771
        },
        "outputId": "ed9b2878-2b56-4a99-9a4f-5d263b10f3f3"
      },
      "execution_count": 8,
      "outputs": [
        {
          "output_type": "stream",
          "name": "stdout",
          "text": [
            "Epoch 1/30\n"
          ]
        },
        {
          "output_type": "error",
          "ename": "ValueError",
          "evalue": "ignored",
          "traceback": [
            "\u001b[0;31m---------------------------------------------------------------------------\u001b[0m",
            "\u001b[0;31mValueError\u001b[0m                                Traceback (most recent call last)",
            "\u001b[0;32m<ipython-input-8-c3f659ae0137>\u001b[0m in \u001b[0;36m<cell line: 4>\u001b[0;34m()\u001b[0m\n\u001b[1;32m      2\u001b[0m \u001b[0mx_train\u001b[0m\u001b[0;34m,\u001b[0m \u001b[0mx_val\u001b[0m\u001b[0;34m,\u001b[0m \u001b[0my_train\u001b[0m\u001b[0;34m,\u001b[0m \u001b[0my_val\u001b[0m \u001b[0;34m=\u001b[0m \u001b[0mtrain_test_split\u001b[0m\u001b[0;34m(\u001b[0m\u001b[0mx_train\u001b[0m\u001b[0;34m,\u001b[0m \u001b[0my_train\u001b[0m\u001b[0;34m,\u001b[0m \u001b[0mtest_size\u001b[0m\u001b[0;34m=\u001b[0m\u001b[0;36m0.2\u001b[0m\u001b[0;34m)\u001b[0m\u001b[0;34m\u001b[0m\u001b[0;34m\u001b[0m\u001b[0m\n\u001b[1;32m      3\u001b[0m \u001b[0;34m\u001b[0m\u001b[0m\n\u001b[0;32m----> 4\u001b[0;31m \u001b[0mhistory\u001b[0m \u001b[0;34m=\u001b[0m \u001b[0mmodel\u001b[0m\u001b[0;34m.\u001b[0m\u001b[0mfit\u001b[0m\u001b[0;34m(\u001b[0m\u001b[0mx_train\u001b[0m\u001b[0;34m,\u001b[0m \u001b[0my_train\u001b[0m\u001b[0;34m,\u001b[0m \u001b[0mepochs\u001b[0m\u001b[0;34m=\u001b[0m\u001b[0;36m30\u001b[0m\u001b[0;34m,\u001b[0m\u001b[0mbatch_size\u001b[0m\u001b[0;34m=\u001b[0m\u001b[0;36m64\u001b[0m\u001b[0;34m,\u001b[0m \u001b[0mvalidation_data\u001b[0m\u001b[0;34m=\u001b[0m\u001b[0;34m(\u001b[0m\u001b[0mx_val\u001b[0m\u001b[0;34m,\u001b[0m\u001b[0my_val\u001b[0m\u001b[0;34m)\u001b[0m\u001b[0;34m)\u001b[0m\u001b[0;34m\u001b[0m\u001b[0;34m\u001b[0m\u001b[0m\n\u001b[0m",
            "\u001b[0;32m/usr/local/lib/python3.10/dist-packages/keras/src/utils/traceback_utils.py\u001b[0m in \u001b[0;36merror_handler\u001b[0;34m(*args, **kwargs)\u001b[0m\n\u001b[1;32m     68\u001b[0m             \u001b[0;31m# To get the full stack trace, call:\u001b[0m\u001b[0;34m\u001b[0m\u001b[0;34m\u001b[0m\u001b[0m\n\u001b[1;32m     69\u001b[0m             \u001b[0;31m# `tf.debugging.disable_traceback_filtering()`\u001b[0m\u001b[0;34m\u001b[0m\u001b[0;34m\u001b[0m\u001b[0m\n\u001b[0;32m---> 70\u001b[0;31m             \u001b[0;32mraise\u001b[0m \u001b[0me\u001b[0m\u001b[0;34m.\u001b[0m\u001b[0mwith_traceback\u001b[0m\u001b[0;34m(\u001b[0m\u001b[0mfiltered_tb\u001b[0m\u001b[0;34m)\u001b[0m \u001b[0;32mfrom\u001b[0m \u001b[0;32mNone\u001b[0m\u001b[0;34m\u001b[0m\u001b[0;34m\u001b[0m\u001b[0m\n\u001b[0m\u001b[1;32m     71\u001b[0m         \u001b[0;32mfinally\u001b[0m\u001b[0;34m:\u001b[0m\u001b[0;34m\u001b[0m\u001b[0;34m\u001b[0m\u001b[0m\n\u001b[1;32m     72\u001b[0m             \u001b[0;32mdel\u001b[0m \u001b[0mfiltered_tb\u001b[0m\u001b[0;34m\u001b[0m\u001b[0;34m\u001b[0m\u001b[0m\n",
            "\u001b[0;32m/usr/local/lib/python3.10/dist-packages/keras/src/engine/training.py\u001b[0m in \u001b[0;36mtf__train_function\u001b[0;34m(iterator)\u001b[0m\n\u001b[1;32m     13\u001b[0m                 \u001b[0;32mtry\u001b[0m\u001b[0;34m:\u001b[0m\u001b[0;34m\u001b[0m\u001b[0;34m\u001b[0m\u001b[0m\n\u001b[1;32m     14\u001b[0m                     \u001b[0mdo_return\u001b[0m \u001b[0;34m=\u001b[0m \u001b[0;32mTrue\u001b[0m\u001b[0;34m\u001b[0m\u001b[0;34m\u001b[0m\u001b[0m\n\u001b[0;32m---> 15\u001b[0;31m                     \u001b[0mretval_\u001b[0m \u001b[0;34m=\u001b[0m \u001b[0mag__\u001b[0m\u001b[0;34m.\u001b[0m\u001b[0mconverted_call\u001b[0m\u001b[0;34m(\u001b[0m\u001b[0mag__\u001b[0m\u001b[0;34m.\u001b[0m\u001b[0mld\u001b[0m\u001b[0;34m(\u001b[0m\u001b[0mstep_function\u001b[0m\u001b[0;34m)\u001b[0m\u001b[0;34m,\u001b[0m \u001b[0;34m(\u001b[0m\u001b[0mag__\u001b[0m\u001b[0;34m.\u001b[0m\u001b[0mld\u001b[0m\u001b[0;34m(\u001b[0m\u001b[0mself\u001b[0m\u001b[0;34m)\u001b[0m\u001b[0;34m,\u001b[0m \u001b[0mag__\u001b[0m\u001b[0;34m.\u001b[0m\u001b[0mld\u001b[0m\u001b[0;34m(\u001b[0m\u001b[0miterator\u001b[0m\u001b[0;34m)\u001b[0m\u001b[0;34m)\u001b[0m\u001b[0;34m,\u001b[0m \u001b[0;32mNone\u001b[0m\u001b[0;34m,\u001b[0m \u001b[0mfscope\u001b[0m\u001b[0;34m)\u001b[0m\u001b[0;34m\u001b[0m\u001b[0;34m\u001b[0m\u001b[0m\n\u001b[0m\u001b[1;32m     16\u001b[0m                 \u001b[0;32mexcept\u001b[0m\u001b[0;34m:\u001b[0m\u001b[0;34m\u001b[0m\u001b[0;34m\u001b[0m\u001b[0m\n\u001b[1;32m     17\u001b[0m                     \u001b[0mdo_return\u001b[0m \u001b[0;34m=\u001b[0m \u001b[0;32mFalse\u001b[0m\u001b[0;34m\u001b[0m\u001b[0;34m\u001b[0m\u001b[0m\n",
            "\u001b[0;31mValueError\u001b[0m: in user code:\n\n    File \"/usr/local/lib/python3.10/dist-packages/keras/src/engine/training.py\", line 1377, in train_function  *\n        return step_function(self, iterator)\n    File \"/usr/local/lib/python3.10/dist-packages/keras/src/engine/training.py\", line 1360, in step_function  **\n        outputs = model.distribute_strategy.run(run_step, args=(data,))\n    File \"/usr/local/lib/python3.10/dist-packages/keras/src/engine/training.py\", line 1349, in run_step  **\n        outputs = model.train_step(data)\n    File \"/usr/local/lib/python3.10/dist-packages/keras/src/engine/training.py\", line 1127, in train_step\n        loss = self.compute_loss(x, y, y_pred, sample_weight)\n    File \"/usr/local/lib/python3.10/dist-packages/keras/src/engine/training.py\", line 1185, in compute_loss\n        return self.compiled_loss(\n    File \"/usr/local/lib/python3.10/dist-packages/keras/src/engine/compile_utils.py\", line 277, in __call__\n        loss_value = loss_obj(y_t, y_p, sample_weight=sw)\n    File \"/usr/local/lib/python3.10/dist-packages/keras/src/losses.py\", line 143, in __call__\n        losses = call_fn(y_true, y_pred)\n    File \"/usr/local/lib/python3.10/dist-packages/keras/src/losses.py\", line 270, in call  **\n        return ag_fn(y_true, y_pred, **self._fn_kwargs)\n    File \"/usr/local/lib/python3.10/dist-packages/keras/src/losses.py\", line 2221, in categorical_crossentropy\n        return backend.categorical_crossentropy(\n    File \"/usr/local/lib/python3.10/dist-packages/keras/src/backend.py\", line 5575, in categorical_crossentropy\n        target.shape.assert_is_compatible_with(output.shape)\n\n    ValueError: Shapes (64, 20) and (64, 100) are incompatible\n"
          ]
        }
      ]
    },
    {
      "cell_type": "markdown",
      "source": [
        "Comprobamos la validez de nuestro modelo observando la precisión que este presenta con los datos de test, que son datos que nunca ha visto."
      ],
      "metadata": {
        "id": "480zFydNj48L"
      }
    },
    {
      "cell_type": "code",
      "source": [
        "test_loss, test_acc = model.evaluate(x_test, y_test, verbose=2)\n",
        "print(f'\\nAccuracy en el conjunto de prueba: {test_acc}')"
      ],
      "metadata": {
        "id": "CaJyeAMX9Xqp"
      },
      "execution_count": null,
      "outputs": []
    },
    {
      "cell_type": "markdown",
      "source": [
        "# APORTACIONES E INVESTIGACIÓN EXTRA\n",
        "### EfficientNet\n",
        "En este proyecto experimentamos con diversas arquitecturas de redes neuronales, como la familia de las EfficientNet, ResNet, DenseNet y VGG16. Estas arquitecturas, debido a su complejidad interna, el agotamiento de los recursos disponibles en Google Colab y el tiempode ejecución, limitaron nuestras pruebas. Perp observamos que las redes ResNet resultaron ser altamente efectivas.\n",
        "\n",
        "## Optimizador SAM\n",
        "También hemos encontrado que SAM es un enfoque de optimización para entrenar modelos de aprendizaje profundo. La idea principal detrás de SAM es mejorar la generalización del modelo minimizando la sensibilidad del modelo a pequeñas perturbaciones en los datos de entrada. En lugar de simplemente minimizar la pérdida en los datos de entrenamiento, SAM también considera la \"sharpness\" de la función de pérdida. La nitidez se refiere a cuán abruptamente cambia la pérdida en las cercanías del punto actual en el espacio de parámetros del modelo. SAM introduce un término de regularización que penaliza los cambios bruscos en los parámetros del modelo, lo que ayuda a suavizar la función de pérdida y mejorar la generalización.\n",
        "\n",
        "## Co-Learning\n",
        "También hemos explorado un método conocido como Co-Learning, en el cual dos o más redes neuronales aprenden de manera colaborativa. En nuestro, nos hemos enfrentado a la limitación de Colab, ya que requiere la ejecución simultánea de varias redes neuronales.\n",
        "\n",
        "## Fractional maxpooling\n",
        "Además probamos con CNNs que emplean fractional maxpooling, que ayuda a reducir el tamaño de la información y proporciona cierta invariancia a cambios en la posición y forma de las imágenes al aplicar pooling, lo que permite ajustar la cantidad de reducción de datos de manera más flexible. Esta mejora resulta en un rendimiento mejorado en la tarea de reconocimiento de patrones en conjuntos de datos específicos.\n",
        "\n",
        "## Transfer learning\n",
        "Otro factor interesante que hemos estudiado es el transfer learning, o 'aprendizaje por transferencia'. Es un enfoque en el aprendizaje automático en el cual se utiliza el conocimiento adquirido al resolver una tarea para mejorar el rendimiento en otra tarea relacionada. En lugar de entrenar un modelo desde cero para cada tarea específica, se aprovechan los conocimientos previos aprendidos en una tarea para ayudar en el aprendizaje de otra tarea.\n",
        "\n",
        "## Transformaciones de imágenes para la mejora de la base de datos.\n",
        "Al neceesitar unos buenos datos hemos intentado realizar distintas transformaciones a los datos, para que estos sean mejores y faciliten el entrenamiento, debido a la capacidad de RAM esto no ha sido posible, ya que ocupaba gran cantidad de RAM.\n",
        "\n",
        "### Aumento de imágenes\n",
        "Aumentar la resolución de las imágenes proporciona más detalles y contexto a la red neuronal durante el entrenamiento. Esto puede ayudar a mejorar la capacidad de la red para generalizar patrones y características a diferentes escalas.\n",
        "\n",
        "CODIGO \"lo implantamos comentado por si pudiera ocasionar algún error en la compilación del programa\"\n",
        "\n",
        "\n",
        "\n",
        "\n"
      ],
      "metadata": {
        "id": "jQjonFGDlT4v"
      }
    },
    {
      "cell_type": "code",
      "source": [
        "#import numpy as np\n",
        "#import matplotlib.pyplot as plt\n",
        "#from scipy.ndimage import zoom\n",
        "\n",
        "\n",
        "#import numpy as np\n",
        "\n",
        "#función para aplicar el aumento a todas las imágenes de la base de datos\n",
        "\n",
        "#from scipy.ndimage import zoom\n",
        "#def aumentar_imagen(imagen, factor_aumento=2):\n",
        "    #imagen_aumentada = zoom(imagen, (factor_aumento, factor_aumento, 1), order=2)\n",
        "    #return imagen_aumentada\n",
        "\n",
        "#Uso de la función para el aumento\n",
        "\n",
        "#imagen_aumentada_train = list(map(lambda imagen: aumentar_imagen(imagen, 2), x_train))\n",
        "#imagen_aumentada_test = list(map(lambda imagen: aumentar_imagen(imagen, 2), x_test))\n",
        "\n",
        "# Visualizamos y comparamos algunas imágenes\n",
        "#for i in range(5):\n",
        "  #plt.figure(figsize=(10, 10))\n",
        "\n",
        "  #plt.subplot(1, 2, 1)\n",
        "  #plt.imshow(imagen_aumentada_train[i])\n",
        "  #plt.title(\"Aumentada\")\n",
        "  #plt.axis(\"off\")\n",
        "  #plt.imshow(imagen_aumentada_train[i], cmap='gray')\n",
        "\n",
        "  #plt.subplot(1, 2, 2)\n",
        "  #plt.imshow(x_train[i])\n",
        "  #plt.title(\"Original\")\n",
        "  #plt.axis(\"off\")\n",
        "  #plt.imshow(x_train[i], cmap='gray')\n",
        "\n",
        "  #plt.show()"
      ],
      "metadata": {
        "id": "qnNmOKQrnNF3"
      },
      "execution_count": null,
      "outputs": []
    },
    {
      "cell_type": "markdown",
      "source": [
        "### Brillo y contraste\n",
        "Al igual que el aumento de imágenes, exponer la red neuronal a imágenes con diferentes niveles de brillo y contraste, se mejora su capacidad para adaptarse a nuevas condiciones de iluminación en el mundo real.\n",
        "\n",
        "CODIGO \"lo implantamos comentado por si pudiera ocasionar algún error en la compilación del programa\""
      ],
      "metadata": {
        "id": "QgRcYeovo68R"
      }
    },
    {
      "cell_type": "code",
      "source": [
        "#intalación de la librería para poder ejecutar el código\n",
        "#pip install Pillow"
      ],
      "metadata": {
        "id": "ZGuEilpBp5RA"
      },
      "execution_count": null,
      "outputs": []
    },
    {
      "cell_type": "code",
      "source": [
        "#from PIL import Image, ImageEnhance\n",
        "#import os\n",
        "#import numpy as np\n",
        "\n",
        "#función para ajustar los brillos\n",
        "\n",
        "#def ajustes_brillo_contraste(input_folder, output_folder, brillo_factor=1.5, contraste_factor=1.5):\n",
        "    # Asegúrate de que la carpeta de salida exista\n",
        "#    if not os.path.exists(output_folder):\n",
        " #       os.makedirs(output_folder)\n",
        "#\n",
        "    # Iterar sobre todas las imágenes en la carpeta de entrada\n",
        " #   for i, imagen_array in enumerate(x_train):\n",
        "        # Convertir el array de la imagen a un objeto Image de Pillow\n",
        "  #      imagen = Image.fromarray(imagen_array.astype('uint8'))  # Convertir el tipo de datos a uint8\n",
        "\n",
        "        # Aplicar ajustes aleatorios de brillo y contraste\n",
        "   #     imagen = ajustar_brillo_contraste(imagen, brillo_factor, contraste_factor)\n",
        "\n",
        "        # Crear la ruta de salida y guardar la nueva imagen\n",
        "    #    output_path = os.path.join(output_folder, f\"imagen_{i}.png\")\n",
        "     #   imagen.save(output_path)\n",
        "\n",
        "#función parfa ajustar las imágenes a los brillos\n",
        "\n",
        "#def ajustar_brillo_contraste(imagen, brillo_factor, contraste_factor):\n",
        " #   enhancer = ImageEnhance.Brightness(imagen)\n",
        "  #  imagen = enhancer.enhance(np.random.uniform(1, brillo_factor))\n",
        "\n",
        "   # enhancer = ImageEnhance.Contrast(imagen)\n",
        "\n",
        "    #imagen = enhancer.enhance(np.random.uniform(1, contraste_factor))\n",
        "\n",
        "    #return imagen\n",
        "\n",
        "#input_folder = \"imagen_aumentada_train\"\n",
        "#output_folder = \"imagen_aumentada_train\"\n",
        "#brillo_factor = 1.5\n",
        "#contraste_factor = 1.5\n",
        "\n",
        "#ajustes_brillo_contraste(input_folder, output_folder, brillo_factor, contraste_factor)\n",
        "\n",
        "#mostramos las imágenes para ver la diferencia\n",
        "\n",
        "#plt.figure(figsize=(20, 20))\n",
        "#for i in range(5):\n",
        "    # Ploteamos sin máscara\n",
        "    #plt.subplot(2, 5, 1 + i)\n",
        "    #plt.axis('off')\n",
        "    #plt.imshow(imagen_aumentada_train[i], cmap='gray')\n",
        "\n",
        "#plt.show()"
      ],
      "metadata": {
        "id": "6Y5SckVBpbFO"
      },
      "execution_count": null,
      "outputs": []
    },
    {
      "cell_type": "markdown",
      "source": [
        "### Máscara Sharpen\n",
        "Puede resaltar detalles finos y mejorar la definición de los objetos en las imágenes.\n",
        "\n",
        "CODIGO \"lo implantamos comentado por si pudiera ocasionar algún error en la compilación del programa\""
      ],
      "metadata": {
        "id": "qZgGVR9-rhzY"
      }
    },
    {
      "cell_type": "code",
      "source": [
        "#import numpy as np\n",
        "#import cv2\n",
        "\n",
        "#función para aplicar la máscara\n",
        "\n",
        "#def sharpen(dataset):\n",
        "    #kernel = (-1 / 256.0) * np.array(\n",
        "        #np.asarray([[1, 4, 6, 4, 1], [4, 16, 24, 16, 4], [6, 24, -476, 24, 6], [4, 16, 24, 16, 4], [1, 4, 6, 4, 1]]))\n",
        "\n",
        "    #for i in range(len(dataset)):\n",
        "        #dataset[i] = cv2.filter2D(np.array(dataset[i]), -1, kernel)  # Convertir la lista a un arreglo usando np.array()\n",
        "\n",
        "    #return dataset\n",
        "\n",
        "#x_train_filtered = sharpen(imagen_aumentada_train)\n",
        "\n",
        "#Visualizar imágenes\n",
        "\n",
        "#for i in range(5):\n",
        "  #plt.figure(figsize=(8, 8))\n",
        "\n",
        "  #plt.subplot(1, 2, 1)\n",
        "  #plt.imshow(imagen_aumentada_train[i])\n",
        "  #plt.title(\"sin mascara\")\n",
        "  #plt.axis(\"off\")\n",
        "  #plt.imshow(imagen_aumentada_train[i], cmap='gray')\n",
        "\n",
        "  #plt.subplot(1, 2, 2)\n",
        "  #plt.imshow(x_train[i])\n",
        "  #plt.title(\"con mascara\")\n",
        "  #plt.axis(\"off\")\n",
        "  #plt.imshow(x_train_filtered[i], cmap='gray')\n",
        "\n",
        "  #plt.show()"
      ],
      "metadata": {
        "id": "MZ5ieCwzr9yd"
      },
      "execution_count": null,
      "outputs": []
    }
  ]
}